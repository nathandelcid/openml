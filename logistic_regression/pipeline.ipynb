{
 "cells": [
  {
   "cell_type": "code",
   "execution_count": 19,
   "id": "5a8e388d",
   "metadata": {},
   "outputs": [
    {
     "data": {
      "text/html": [
       "<div>\n",
       "<style scoped>\n",
       "    .dataframe tbody tr th:only-of-type {\n",
       "        vertical-align: middle;\n",
       "    }\n",
       "\n",
       "    .dataframe tbody tr th {\n",
       "        vertical-align: top;\n",
       "    }\n",
       "\n",
       "    .dataframe thead th {\n",
       "        text-align: right;\n",
       "    }\n",
       "</style>\n",
       "<table border=\"1\" class=\"dataframe\">\n",
       "  <thead>\n",
       "    <tr style=\"text-align: right;\">\n",
       "      <th></th>\n",
       "      <th>0</th>\n",
       "      <th>1</th>\n",
       "      <th>2</th>\n",
       "      <th>3</th>\n",
       "      <th>4</th>\n",
       "    </tr>\n",
       "  </thead>\n",
       "  <tbody>\n",
       "    <tr>\n",
       "      <th>0</th>\n",
       "      <td>1.0</td>\n",
       "      <td>0.088235</td>\n",
       "      <td>0.666667</td>\n",
       "      <td>0.000000</td>\n",
       "      <td>0.041667</td>\n",
       "    </tr>\n",
       "    <tr>\n",
       "      <th>1</th>\n",
       "      <td>1.0</td>\n",
       "      <td>0.411765</td>\n",
       "      <td>1.000000</td>\n",
       "      <td>0.087719</td>\n",
       "      <td>0.125000</td>\n",
       "    </tr>\n",
       "    <tr>\n",
       "      <th>2</th>\n",
       "      <td>1.0</td>\n",
       "      <td>0.705882</td>\n",
       "      <td>0.458333</td>\n",
       "      <td>0.596491</td>\n",
       "      <td>0.541667</td>\n",
       "    </tr>\n",
       "    <tr>\n",
       "      <th>3</th>\n",
       "      <td>1.0</td>\n",
       "      <td>0.147059</td>\n",
       "      <td>0.583333</td>\n",
       "      <td>0.105263</td>\n",
       "      <td>0.041667</td>\n",
       "    </tr>\n",
       "    <tr>\n",
       "      <th>4</th>\n",
       "      <td>1.0</td>\n",
       "      <td>0.029412</td>\n",
       "      <td>0.500000</td>\n",
       "      <td>0.052632</td>\n",
       "      <td>0.041667</td>\n",
       "    </tr>\n",
       "    <tr>\n",
       "      <th>5</th>\n",
       "      <td>1.0</td>\n",
       "      <td>0.588235</td>\n",
       "      <td>0.208333</td>\n",
       "      <td>0.701754</td>\n",
       "      <td>0.750000</td>\n",
       "    </tr>\n",
       "    <tr>\n",
       "      <th>6</th>\n",
       "      <td>1.0</td>\n",
       "      <td>0.617647</td>\n",
       "      <td>0.500000</td>\n",
       "      <td>0.614035</td>\n",
       "      <td>0.583333</td>\n",
       "    </tr>\n",
       "    <tr>\n",
       "      <th>7</th>\n",
       "      <td>1.0</td>\n",
       "      <td>0.264706</td>\n",
       "      <td>0.625000</td>\n",
       "      <td>0.087719</td>\n",
       "      <td>0.041667</td>\n",
       "    </tr>\n",
       "    <tr>\n",
       "      <th>8</th>\n",
       "      <td>1.0</td>\n",
       "      <td>0.205882</td>\n",
       "      <td>0.666667</td>\n",
       "      <td>0.070175</td>\n",
       "      <td>0.041667</td>\n",
       "    </tr>\n",
       "    <tr>\n",
       "      <th>9</th>\n",
       "      <td>1.0</td>\n",
       "      <td>0.264706</td>\n",
       "      <td>0.875000</td>\n",
       "      <td>0.087719</td>\n",
       "      <td>0.000000</td>\n",
       "    </tr>\n",
       "  </tbody>\n",
       "</table>\n",
       "</div>"
      ],
      "text/plain": [
       "     0         1         2         3         4\n",
       "0  1.0  0.088235  0.666667  0.000000  0.041667\n",
       "1  1.0  0.411765  1.000000  0.087719  0.125000\n",
       "2  1.0  0.705882  0.458333  0.596491  0.541667\n",
       "3  1.0  0.147059  0.583333  0.105263  0.041667\n",
       "4  1.0  0.029412  0.500000  0.052632  0.041667\n",
       "5  1.0  0.588235  0.208333  0.701754  0.750000\n",
       "6  1.0  0.617647  0.500000  0.614035  0.583333\n",
       "7  1.0  0.264706  0.625000  0.087719  0.041667\n",
       "8  1.0  0.205882  0.666667  0.070175  0.041667\n",
       "9  1.0  0.264706  0.875000  0.087719  0.000000"
      ]
     },
     "execution_count": 19,
     "metadata": {},
     "output_type": "execute_result"
    }
   ],
   "source": [
    "from log_reg import LogisticRegression\n",
    "from sklearn.datasets import load_iris\n",
    "from sklearn.model_selection import train_test_split\n",
    "from min_max_scaler import MinMaxScaler\n",
    "import numpy as np\n",
    "import pandas as pd\n",
    "\n",
    "log_reg = LogisticRegression()\n",
    "scaler = MinMaxScaler()\n",
    "\n",
    "data = load_iris()\n",
    "X = data.data\n",
    "y = data.target\n",
    "\n",
    "scaler = MinMaxScaler()\n",
    "# Split the data into training and testing sets\n",
    "X_train, X_test, y_train, y_test = train_test_split(X, y, test_size=0.2, random_state=42)\n",
    "X_train = scaler.fit_transform(X_train)\n",
    "\n",
    "# Only use the first 10 samples for demonstration purposes\n",
    "X_train = X_train[:10]\n",
    "X_train = np.concatenate([np.ones((X_train.shape[0], 1)), X_train], axis=1)\n",
    "y_train = y_train[:10]\n",
    "\n",
    "X_df = pd.DataFrame(X_train)\n",
    "X_df"
   ]
  },
  {
   "cell_type": "markdown",
   "id": "50623d64",
   "metadata": {},
   "source": [
    "# 1: Initialize weights"
   ]
  },
  {
   "cell_type": "code",
   "execution_count": 23,
   "id": "6914ab74",
   "metadata": {},
   "outputs": [
    {
     "name": "stdout",
     "output_type": "stream",
     "text": [
      "[0.2 0.2 0.2 0.2 0.2]\n",
      "[5 3 9 6 0 2 8 4 7 1]\n"
     ]
    }
   ],
   "source": [
    "w = np.ones(X_train.shape[1]) / X_train.shape[1]\n",
    "indices = np.array([5, 3, 9, 6, 0, 2, 8, 4, 7, 1])\n",
    "batch_size = 1\n",
    "print(w)\n",
    "print(indices)"
   ]
  },
  {
   "cell_type": "markdown",
   "id": "1dd0ac0d",
   "metadata": {},
   "source": [
    "# 2: Optimize"
   ]
  },
  {
   "cell_type": "markdown",
   "id": "aeddbbc5",
   "metadata": {},
   "source": [
    "### Batch 1: `X_train[[5]]`"
   ]
  },
  {
   "cell_type": "code",
   "execution_count": 26,
   "id": "4fb28ade",
   "metadata": {},
   "outputs": [
    {
     "name": "stdout",
     "output_type": "stream",
     "text": [
      "[[1.         0.58823529 0.20833333 0.70175439 0.75      ]]\n",
      "[2]\n"
     ]
    }
   ],
   "source": [
    "batch_x = X_train[indices[0:0 + batch_size]]\n",
    "batch_y = y_train[indices[0:0 + batch_size]]\n",
    "print(batch_x)\n",
    "print(batch_y)\n"
   ]
  }
 ],
 "metadata": {
  "kernelspec": {
   "display_name": "ML",
   "language": "python",
   "name": "python3"
  },
  "language_info": {
   "codemirror_mode": {
    "name": "ipython",
    "version": 3
   },
   "file_extension": ".py",
   "mimetype": "text/x-python",
   "name": "python",
   "nbconvert_exporter": "python",
   "pygments_lexer": "ipython3",
   "version": "3.13.7"
  }
 },
 "nbformat": 4,
 "nbformat_minor": 5
}
